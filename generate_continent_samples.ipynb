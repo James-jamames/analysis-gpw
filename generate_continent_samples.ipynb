{
 "cells": [
  {
   "cell_type": "code",
   "execution_count": 1,
   "id": "431b85be",
   "metadata": {},
   "outputs": [],
   "source": [
    "import pandas as pd\n",
    "import geopandas as gpd\n",
    "\n",
    "from shapely.geometry import Point"
   ]
  },
  {
   "cell_type": "code",
   "execution_count": 2,
   "id": "3e110fb4",
   "metadata": {},
   "outputs": [],
   "source": [
    "samples = pd.read_parquet('samples.pq')\n",
    "\n",
    "df_columns = list(samples.columns)\n",
    "\n",
    "df_columns.append('continent')"
   ]
  },
  {
   "cell_type": "code",
   "execution_count": 3,
   "id": "5f40849a",
   "metadata": {},
   "outputs": [],
   "source": [
    "# Converter o DataFrame para um GeoDataFrame\n",
    "geometry_samples = [Point(xy) for xy in zip(samples['x'], samples['y'])]\n",
    "\n",
    "gdf_samples = gpd.GeoDataFrame(samples, geometry=geometry_samples, crs=\"EPSG:4326\")"
   ]
  },
  {
   "cell_type": "code",
   "execution_count": 4,
   "id": "62f55e4f",
   "metadata": {},
   "outputs": [],
   "source": [
    "# Carregar o shapefile com fronteiras dos continentes\n",
    "continents = gpd.read_file(\"world_continents/World_Continents.shp\")"
   ]
  },
  {
   "cell_type": "code",
   "execution_count": 5,
   "id": "5eb9017c",
   "metadata": {},
   "outputs": [],
   "source": [
    "# Certificar que ambos os GeoDataFrames estão no mesmo CRS\n",
    "gdf_samples = gdf_samples.to_crs(continents.crs)"
   ]
  },
  {
   "cell_type": "code",
   "execution_count": 6,
   "id": "a00c8f2e",
   "metadata": {},
   "outputs": [],
   "source": [
    "# Realizar o Spatial Join\n",
    "result_samples = gpd.sjoin(gdf_samples, continents, how=\"left\", predicate=\"intersects\")\n",
    "\n",
    "result_train = result_samples.rename(columns={'CONTINENT': 'continent'})\n",
    "\n",
    "result_train = result_train[df_columns]"
   ]
  },
  {
   "cell_type": "code",
   "execution_count": 8,
   "id": "011dd1b7",
   "metadata": {},
   "outputs": [],
   "source": [
    "result_train.to_parquet(\"c_samples.pq\")"
   ]
  }
 ],
 "metadata": {
  "kernelspec": {
   "display_name": "Python 3",
   "language": "python",
   "name": "python3"
  },
  "language_info": {
   "codemirror_mode": {
    "name": "ipython",
    "version": 3
   },
   "file_extension": ".py",
   "mimetype": "text/x-python",
   "name": "python",
   "nbconvert_exporter": "python",
   "pygments_lexer": "ipython3",
   "version": "3.12.10"
  }
 },
 "nbformat": 4,
 "nbformat_minor": 5
}
